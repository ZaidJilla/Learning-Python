{
 "cells": [
  {
   "cell_type": "code",
   "execution_count": null,
   "id": "47a841fd-8f10-4b5f-9ef1-3c6b09a29208",
   "metadata": {},
   "outputs": [],
   "source": [
    "# lists = used to store multiple items in a single variable"
   ]
  },
  {
   "cell_type": "code",
   "execution_count": null,
   "id": "9a7310f6-dc32-49cc-8c83-96865de3ea00",
   "metadata": {},
   "outputs": [],
   "source": [
    "food = ['pizza', 'burger', 'hotdog', 'pasta', 'ice cream']"
   ]
  },
  {
   "cell_type": "code",
   "execution_count": null,
   "id": "e859595a-98cb-49b0-949c-c234ec516035",
   "metadata": {},
   "outputs": [
    {
     "name": "stdout",
     "output_type": "stream",
     "text": [
      "['pizza', 'burger', 'hotdog', 'pasta', 'ice cream']\n"
     ]
    }
   ],
   "source": [
    "print(food)"
   ]
  },
  {
   "cell_type": "code",
   "execution_count": null,
   "id": "50548f8b-77a3-4daf-9232-b2da9e8d9668",
   "metadata": {},
   "outputs": [
    {
     "name": "stdout",
     "output_type": "stream",
     "text": [
      "pizza\n"
     ]
    }
   ],
   "source": [
    "print(food[0])"
   ]
  },
  {
   "cell_type": "code",
   "execution_count": null,
   "id": "4aa5b959-9b07-491c-b2b4-70d0fc6d1d48",
   "metadata": {},
   "outputs": [],
   "source": [
    "# adds an item to the end of the list\n",
    "food.append('sushi')"
   ]
  },
  {
   "cell_type": "code",
   "execution_count": null,
   "id": "ba875345-d903-42d9-b079-5ff8925b9bf7",
   "metadata": {},
   "outputs": [],
   "source": [
    "# removes an item from the list\n",
    "food.remove('hotdog')"
   ]
  },
  {
   "cell_type": "code",
   "execution_count": null,
   "id": "6b3a9c66-6c1f-4331-871d-8affa5df5218",
   "metadata": {},
   "outputs": [
    {
     "data": {
      "text/plain": [
       "'sushi'"
      ]
     },
     "execution_count": 7,
     "metadata": {},
     "output_type": "execute_result"
    }
   ],
   "source": [
    "# removes the last item from the list\n",
    "food.pop()"
   ]
  },
  {
   "cell_type": "code",
   "execution_count": null,
   "id": "d8e44750-62d3-48c1-95e2-7349b23b91ec",
   "metadata": {},
   "outputs": [],
   "source": [
    "#inserts an item at a specified position\n",
    "food.insert(0, 'cake')"
   ]
  },
  {
   "cell_type": "code",
   "execution_count": null,
   "id": "a4a903ca-8f8d-40cd-91d6-bfb19225a257",
   "metadata": {},
   "outputs": [],
   "source": [
    "# sorts the list aphabetically\n",
    "food.sort()"
   ]
  },
  {
   "cell_type": "code",
   "execution_count": null,
   "id": "e1f4b890-6c9d-477d-9672-4b2101f7a3a5",
   "metadata": {},
   "outputs": [],
   "source": [
    "# clears the list\n",
    "# food.clear()"
   ]
  },
  {
   "cell_type": "code",
   "execution_count": null,
   "id": "96e3ca2e-bccc-4ca5-bf83-56175d649d3e",
   "metadata": {},
   "outputs": [],
   "source": [
    "for x in food:\n",
    "    print(x)"
   ]
  }
 ],
 "metadata": {
  "language_info": {
   "codemirror_mode": {
    "name": "ipython",
    "version": 3
   },
   "file_extension": ".py",
   "mimetype": "text/x-python",
   "name": "python",
   "nbconvert_exporter": "python",
   "pygments_lexer": "ipython3",
   "version": 3
  }
 },
 "nbformat": 4,
 "nbformat_minor": 2
}
