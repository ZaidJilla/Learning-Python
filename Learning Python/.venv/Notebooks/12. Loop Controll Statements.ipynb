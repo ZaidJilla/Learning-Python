{
 "cells": [
  {
   "cell_type": "markdown",
   "metadata": {},
   "source": [
    "Loop control statements changes a loops execution from its normal sequence"
   ]
  },
  {
   "cell_type": "code",
   "execution_count": null,
   "id": "ca96868a-5122-4ac3-96f2-bf3554c6a516",
   "metadata": {},
   "outputs": [],
   "source": [
    "# break = used to terminate the loop entirely\n",
    "# continue = skips to the next iteration of the loop\n",
    "# pass = does nothing, acts as a placeholder"
   ]
  },
  {
   "cell_type": "markdown",
   "metadata": {},
   "source": [
    "Will ask for name until name is not empty, which will break the loop (end the loop)"
   ]
  },
  {
   "cell_type": "code",
   "execution_count": null,
   "id": "7a25d39a-653c-4079-8ce1-d38e1f41e47b",
   "metadata": {},
   "outputs": [],
   "source": [
    "# break example\n",
    "while True:\n",
    "    name = input('Enter your name: ')\n",
    "    if name != '':\n",
    "       break"
   ]
  },
  {
   "cell_type": "markdown",
   "metadata": {},
   "source": [
    "Continue will skip the dashes and print all the numbers"
   ]
  },
  {
   "cell_type": "code",
   "execution_count": null,
   "id": "a996c7b5-8139-40f1-b9aa-de6bdcdfbc10",
   "metadata": {},
   "outputs": [
    {
     "name": "stdout",
     "output_type": "stream",
     "text": [
      "1234567890"
     ]
    }
   ],
   "source": [
    "# continue example\n",
    "phone_number = '123-456-7890'\n",
    "for i in phone_number:\n",
    "    if  i == \"-\":\n",
    "        continue\n",
    "    print(i, end='')"
   ]
  },
  {
   "cell_type": "markdown",
   "metadata": {},
   "source": [
    "pass is a placeholder"
   ]
  },
  {
   "cell_type": "code",
   "execution_count": null,
   "id": "6079ffca-b270-4232-a584-3d11e66a9bc1",
   "metadata": {},
   "outputs": [
    {
     "name": "stdout",
     "output_type": "stream",
     "text": [
      "1\n",
      "2\n",
      "3\n",
      "4\n",
      "5\n",
      "6\n",
      "7\n",
      "8\n",
      "9\n",
      "10\n",
      "11\n",
      "12\n",
      "14\n",
      "15\n",
      "16\n",
      "17\n",
      "18\n",
      "19\n",
      "20\n"
     ]
    }
   ],
   "source": [
    "# pass example\n",
    "for i in range(1, 21):\n",
    "    if i == 13:\n",
    "        pass\n",
    "    else:\n",
    "        print(i)"
   ]
  }
 ],
 "metadata": {
  "language_info": {
   "codemirror_mode": {
    "name": "ipython",
    "version": 3
   },
   "file_extension": ".py",
   "mimetype": "text/x-python",
   "name": "python",
   "nbconvert_exporter": "python",
   "pygments_lexer": "ipython3",
   "version": 3
  }
 },
 "nbformat": 4,
 "nbformat_minor": 2
}
