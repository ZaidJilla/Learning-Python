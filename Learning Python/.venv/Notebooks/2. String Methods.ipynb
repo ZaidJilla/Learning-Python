{
 "cells": [
  {
   "cell_type": "code",
   "execution_count": null,
   "id": "23b67196-f5ef-4625-bd1f-d1afc38c2c91",
   "metadata": {},
   "outputs": [],
   "source": [
    "name = 'Zaid Jilla'"
   ]
  },
  {
   "cell_type": "code",
   "execution_count": null,
   "id": "1a56f5f5-4058-4e43-acc3-395de3288da9",
   "metadata": {},
   "outputs": [
    {
     "name": "stdout",
     "output_type": "stream",
     "text": [
      "10\n"
     ]
    }
   ],
   "source": [
    "# print length of string\n",
    "print(len(name))"
   ]
  },
  {
   "cell_type": "code",
   "execution_count": null,
   "id": "bfdd1cd3-210a-40ae-a33e-0590e891233a",
   "metadata": {},
   "outputs": [
    {
     "name": "stdout",
     "output_type": "stream",
     "text": [
      "5\n"
     ]
    }
   ],
   "source": [
    "# finding characters within a string\n",
    "print(name.find('J'))"
   ]
  },
  {
   "cell_type": "code",
   "execution_count": null,
   "id": "3605623e-da74-4362-8415-75d3536cb1e4",
   "metadata": {},
   "outputs": [
    {
     "name": "stdout",
     "output_type": "stream",
     "text": [
      "Zaid jilla\n"
     ]
    }
   ],
   "source": [
    "# capitalizing the first letter of the string\n",
    "print(name.capitalize())"
   ]
  },
  {
   "cell_type": "code",
   "execution_count": null,
   "id": "e7441616-4cf1-467a-8f08-ecb83747c980",
   "metadata": {},
   "outputs": [
    {
     "name": "stdout",
     "output_type": "stream",
     "text": [
      "ZAID JILLA\n"
     ]
    }
   ],
   "source": [
    "# converting string to uppercase\n",
    "print(name.upper())"
   ]
  },
  {
   "cell_type": "code",
   "execution_count": null,
   "id": "d2f6e6b0-6d59-4c2e-a77f-899e05da3ff8",
   "metadata": {},
   "outputs": [
    {
     "name": "stdout",
     "output_type": "stream",
     "text": [
      "zaid jilla\n"
     ]
    }
   ],
   "source": [
    "# converting string to lowercase\n",
    "print(name.lower())"
   ]
  },
  {
   "cell_type": "code",
   "execution_count": null,
   "id": "2cfb005e-b756-4d75-9a6c-b558e63a5855",
   "metadata": {},
   "outputs": [
    {
     "name": "stdout",
     "output_type": "stream",
     "text": [
      "False\n"
     ]
    }
   ],
   "source": [
    "# checking if string is a digit\n",
    "print(name.isdigit())"
   ]
  },
  {
   "cell_type": "code",
   "execution_count": null,
   "id": "236a1b0a-c6f0-4c70-aeeb-0dbef30538d5",
   "metadata": {},
   "outputs": [
    {
     "name": "stdout",
     "output_type": "stream",
     "text": [
      "False\n",
      "True\n"
     ]
    }
   ],
   "source": [
    "# checking if string is all letters\n",
    "print(name.isalpha())\n",
    "temp = 'Zaid'\n",
    "print(temp.isalpha())"
   ]
  },
  {
   "cell_type": "markdown",
   "metadata": {},
   "source": [
    "First resulted as False because there is a space between Zaid and Jilla, and spaces are not alphanumeric"
   ]
  },
  {
   "cell_type": "code",
   "execution_count": null,
   "id": "aa56bd57-54c1-48c1-9bcf-0e2d3fc3614a",
   "metadata": {},
   "outputs": [
    {
     "name": "stdout",
     "output_type": "stream",
     "text": [
      "2\n"
     ]
    }
   ],
   "source": [
    "# counting the number of times a character appears in a string\n",
    "print(name.count('a'))"
   ]
  },
  {
   "cell_type": "code",
   "execution_count": null,
   "id": "11d71332-2ba4-454f-a58f-1ac528fa5b9d",
   "metadata": {},
   "outputs": [
    {
     "name": "stdout",
     "output_type": "stream",
     "text": [
      "ZAid JillA\n"
     ]
    }
   ],
   "source": [
    "# replacing a character in a string\n",
    "print(name.replace('a', 'A'))"
   ]
  },
  {
   "cell_type": "code",
   "execution_count": null,
   "id": "38357cdc-e259-4ff9-ba1e-73688f157a19",
   "metadata": {},
   "outputs": [
    {
     "name": "stdout",
     "output_type": "stream",
     "text": [
      "Zaid JillaZaid JillaZaid Jilla\n"
     ]
    }
   ],
   "source": [
    "# printing name multiple times\n",
    "print(name * 3)"
   ]
  }
 ],
 "metadata": {
  "language_info": {
   "codemirror_mode": {
    "name": "ipython",
    "version": 3
   },
   "file_extension": ".py",
   "mimetype": "text/x-python",
   "name": "python",
   "nbconvert_exporter": "python",
   "pygments_lexer": "ipython3",
   "version": 3
  }
 },
 "nbformat": 4,
 "nbformat_minor": 2
}
