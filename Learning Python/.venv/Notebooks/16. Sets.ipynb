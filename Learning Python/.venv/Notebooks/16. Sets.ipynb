{
 "cells": [
  {
   "cell_type": "markdown",
   "metadata": {},
   "source": [
    "A set is a collection which is unordered, unindexed, with n.o duplicate values. Sets are faster than Lists\n"
   ]
  },
  {
   "cell_type": "code",
   "execution_count": null,
   "id": "8a4d47fd-782f-4079-ae36-85b5ae11efba",
   "metadata": {},
   "outputs": [],
   "source": [
    "utensils = {'fork', 'spoon', 'knife'}\n",
    "\n",
    "utensils2 = {'fork', 'spoon', 'knife', 'fork'}"
   ]
  },
  {
   "cell_type": "code",
   "execution_count": null,
   "id": "f0374f0c-b5f7-4fac-a381-69e60d2d5f3c",
   "metadata": {},
   "outputs": [
    {
     "name": "stdout",
     "output_type": "stream",
     "text": [
      "spoon\n",
      "fork\n",
      "knife\n"
     ]
    }
   ],
   "source": [
    "for x in utensils:\n",
    "    print(x)"
   ]
  },
  {
   "cell_type": "code",
   "execution_count": null,
   "id": "b8fb4bd2-7587-45bd-aee0-a5ff09f1a6ec",
   "metadata": {},
   "outputs": [
    {
     "name": "stdout",
     "output_type": "stream",
     "text": [
      "spoon\n",
      "fork\n",
      "knife\n"
     ]
    }
   ],
   "source": [
    "for x in utensils2:\n",
    "    print(x)"
   ]
  },
  {
   "cell_type": "code",
   "execution_count": null,
   "id": "09fdd8d4-b924-4ae5-904b-ba402fc2e044",
   "metadata": {},
   "outputs": [
    {
     "name": "stdout",
     "output_type": "stream",
     "text": [
      "napkin\n",
      "spoon\n",
      "knife\n"
     ]
    }
   ],
   "source": [
    "utensils.add('napkin')\n",
    "utensils.remove('fork')\n",
    "for x in utensils:\n",
    "    print(x)"
   ]
  },
  {
   "cell_type": "code",
   "execution_count": null,
   "id": "bb3fb679-ba1f-4be4-95d2-122304b6fd9b",
   "metadata": {},
   "outputs": [
    {
     "name": "stdout",
     "output_type": "stream",
     "text": [
      "set()\n"
     ]
    }
   ],
   "source": [
    "utensils.clear()\n",
    "print(utensils)"
   ]
  },
  {
   "cell_type": "code",
   "execution_count": null,
   "id": "a976a6fb-1492-42c0-b686-dfb53a3c5cb2",
   "metadata": {},
   "outputs": [
    {
     "name": "stdout",
     "output_type": "stream",
     "text": [
      "cup\n",
      "plate\n",
      "spoon\n",
      "fork\n",
      "bowl\n",
      "knife\n"
     ]
    }
   ],
   "source": [
    "utensils = {'fork', 'spoon', 'knife'}\n",
    "dishes = {'bowl', 'plate', 'cup'}\n",
    "utensils.update(dishes)\n",
    "for x in utensils:\n",
    "    print(x)"
   ]
  }
 ],
 "metadata": {
  "language_info": {
   "codemirror_mode": {
    "name": "ipython",
    "version": 3
   },
   "file_extension": ".py",
   "mimetype": "text/x-python",
   "name": "python",
   "nbconvert_exporter": "python",
   "pygments_lexer": "ipython3",
   "version": 3
  }
 },
 "nbformat": 4,
 "nbformat_minor": 2
}
