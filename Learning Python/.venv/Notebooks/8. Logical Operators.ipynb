{
 "cells": [
  {
   "cell_type": "markdown",
   "metadata": {},
   "source": [
    "Logical Operators (and, or, not) are used to check if two or more conditional statements have been met"
   ]
  },
  {
   "cell_type": "code",
   "execution_count": null,
   "id": "1d607879-cff6-4fd8-8c96-8d220a0a9b29",
   "metadata": {},
   "outputs": [],
   "source": [
    "temp = int(input(\"What is the temprature outside? (C): \"))"
   ]
  },
  {
   "cell_type": "code",
   "execution_count": null,
   "id": "ce13eff0-3637-44cd-9045-faf62c3b6318",
   "metadata": {},
   "outputs": [
    {
     "name": "stdout",
     "output_type": "stream",
     "text": [
      "The temprature is good today!\n",
      "Go outside and enjoy the weather!\n"
     ]
    }
   ],
   "source": [
    "if temp>=0 and temp<=30:\n",
    "    print(\"The temprature is good today!\")\n",
    "    print(\"Go outside and enjoy the weather!\")\n",
    "elif temp < 0 or temp > 30: \n",
    "    print(\"The temprature is not good today!\")\n",
    "    print(\"Stay inside!\")"
   ]
  },
  {
   "cell_type": "markdown",
   "metadata": {},
   "source": [
    "inputted 20\n"
   ]
  }
 ],
 "metadata": {
  "language_info": {
   "codemirror_mode": {
    "name": "ipython",
    "version": 3
   },
   "file_extension": ".py",
   "mimetype": "text/x-python",
   "name": "python",
   "nbconvert_exporter": "python",
   "pygments_lexer": "ipython3",
   "version": 3
  }
 },
 "nbformat": 4,
 "nbformat_minor": 2
}
