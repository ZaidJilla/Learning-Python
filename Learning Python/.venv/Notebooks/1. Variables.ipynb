{
 "cells": [
  {
   "cell_type": "code",
   "execution_count": null,
   "id": "ab0051c9-49d6-4d33-96c5-98f345ceabeb",
   "metadata": {},
   "outputs": [
    {
     "name": "stdout",
     "output_type": "stream",
     "text": [
      "Hello Zaid Jilla\n"
     ]
    }
   ],
   "source": [
    "# string variable\n",
    "first_name = 'Zaid'\n",
    "last_name = 'jilla'\n",
    "full_name = first_name.capitalize()+ ' '+ last_name.capitalize()\n",
    "print(\"Hello\", full_name)\n",
    "#print(type(name))"
   ]
  },
  {
   "cell_type": "markdown",
   "metadata": {},
   "source": [
    "Integer Variables"
   ]
  },
  {
   "cell_type": "code",
   "execution_count": null,
   "id": "4934965f-de75-4bd5-a8b5-430d5ede3872",
   "metadata": {},
   "outputs": [
    {
     "name": "stdout",
     "output_type": "stream",
     "text": [
      "19\n",
      "your age next year is: 19\n"
     ]
    }
   ],
   "source": [
    "# integer variables\n",
    "age = 18\n",
    "age += 1 \n",
    "print(age)\n",
    "print('your age next year is:', str(age))\n",
    "#print(type(age))"
   ]
  },
  {
   "cell_type": "markdown",
   "metadata": {},
   "source": [
    "Float Variables"
   ]
  },
  {
   "cell_type": "code",
   "execution_count": null,
   "id": "e512097b-b90b-489d-9ea8-2c2754ce3b03",
   "metadata": {},
   "outputs": [
    {
     "name": "stdout",
     "output_type": "stream",
     "text": [
      "250.5\n",
      "Your height is 250.5cm\n"
     ]
    }
   ],
   "source": [
    "# float variables\n",
    "height = 250.5\n",
    "print(height)\n",
    "print('Your height is', str(height)+'cm')\n",
    "#print(type(height))"
   ]
  },
  {
   "cell_type": "markdown",
   "metadata": {},
   "source": [
    "Boolean Variables"
   ]
  },
  {
   "cell_type": "code",
   "execution_count": null,
   "id": "c8494abf-2d41-4776-ac8a-3d2bff814d58",
   "metadata": {},
   "outputs": [
    {
     "name": "stdout",
     "output_type": "stream",
     "text": [
      "Are you a human: True\n"
     ]
    }
   ],
   "source": [
    "# boolean variables\n",
    "human = True\n",
    "print('Are you a human:', str(human))\n",
    "#print(type(human))"
   ]
  },
  {
   "cell_type": "markdown",
   "metadata": {},
   "source": [
    "Multiple Assignment Variables"
   ]
  },
  {
   "cell_type": "code",
   "execution_count": null,
   "metadata": {},
   "outputs": [
    {
     "data": {
      "text/plain": [
       "Name: Zaid\n",
       "Age: 18\n",
       "Attractive: True\n"
      ]
     },
     "metadata": {},
     "output_type": "display_data"
    }
   ],
   "source": [
    "# multiple assignment = allows us to assign multiple variables at the same time in one line of code\n",
    "#name = 'Zaid'\n",
    "#age = 18\n",
    "#attractive = True\n",
    "name, age, attractive = 'Zaid', 18, True\n",
    "print('Name:', name)\n",
    "print('Age:', age)\n",
    "print('Attractive:', attractive)"
   ]
  }
 ],
 "metadata": {
  "language_info": {
   "codemirror_mode": {
    "name": "ipython",
    "version": 3
   },
   "file_extension": ".py",
   "mimetype": "text/x-python",
   "name": "python",
   "nbconvert_exporter": "python",
   "pygments_lexer": "ipython3",
   "version": 3
  }
 },
 "nbformat": 4,
 "nbformat_minor": 2
}
