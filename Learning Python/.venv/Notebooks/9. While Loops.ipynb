{
 "cells": [
  {
   "cell_type": "markdown",
   "metadata": {},
   "source": [
    "A While Loop is a statement that will execute its block of code, as long as its condition remains True"
   ]
  },
  {
   "cell_type": "markdown",
   "metadata": {},
   "source": [
    "sets 'name' as an empty string"
   ]
  },
  {
   "cell_type": "code",
   "execution_count": null,
   "id": "d1ae02a6-3178-4078-a131-9fe9cde25605",
   "metadata": {},
   "outputs": [],
   "source": [
    "name = ''"
   ]
  },
  {
   "cell_type": "markdown",
   "metadata": {},
   "source": [
    "Creates a while loop that says, while name is empty, run this code below, which prompts the user to input their name, and then saves their input into the variable 'name'"
   ]
  },
  {
   "cell_type": "code",
   "execution_count": null,
   "id": "47591a3e-d3a7-41cd-a9dc-ffb185e6ebb9",
   "metadata": {},
   "outputs": [],
   "source": [
    "while not name:\n",
    "    name = input('Enter your name: ')"
   ]
  },
  {
   "cell_type": "markdown",
   "metadata": {},
   "source": [
    "If name is not empty, the while loop ends and then prints out Hello"
   ]
  },
  {
   "cell_type": "code",
   "execution_count": null,
   "id": "265d0553-166d-4eab-9d09-fe7db1e94c27",
   "metadata": {},
   "outputs": [],
   "source": [
    "print('Hello', name+'!')"
   ]
  }
 ],
 "metadata": {
  "language_info": {
   "codemirror_mode": {
    "name": "ipython",
    "version": 3
   },
   "file_extension": ".py",
   "mimetype": "text/x-python",
   "name": "python",
   "nbconvert_exporter": "python",
   "pygments_lexer": "ipython3",
   "version": 3
  }
 },
 "nbformat": 4,
 "nbformat_minor": 2
}
