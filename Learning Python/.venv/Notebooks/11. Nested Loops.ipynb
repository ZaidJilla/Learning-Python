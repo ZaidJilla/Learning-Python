{
 "cells": [
  {
   "cell_type": "markdown",
   "metadata": {},
   "source": [
    "A nested loops is the \"loop inside\" will finish all of its iterations before finishing one iteration of the \"outer\" loop"
   ]
  },
  {
   "cell_type": "markdown",
   "metadata": {},
   "source": [
    "Asks the user to input the amount of rows they want, and stores it in the varable 'rows'"
   ]
  },
  {
   "cell_type": "code",
   "execution_count": null,
   "id": "b0378a0b-e6e3-456d-bfd7-af3f80208250",
   "metadata": {},
   "outputs": [],
   "source": [
    "rows = int(input('How many rows? '))"
   ]
  },
  {
   "cell_type": "markdown",
   "metadata": {},
   "source": [
    "Asks the user to input the amount of columns they want, and stores it in the varable 'columns'"
   ]
  },
  {
   "cell_type": "code",
   "execution_count": null,
   "id": "86811c32-ca68-4d7d-8424-9e2bacc3e4f4",
   "metadata": {},
   "outputs": [],
   "source": [
    "columns = int(input('How many colums? '))"
   ]
  },
  {
   "cell_type": "markdown",
   "metadata": {},
   "source": [
    "Asks the user to input the symbol they want to use, and stores it in the varable 'symbol'"
   ]
  },
  {
   "cell_type": "code",
   "execution_count": null,
   "id": "9f2a4ff0-9da1-4f0d-a091-a57a86923edc",
   "metadata": {},
   "outputs": [],
   "source": [
    "symbol = input('Enter a symbol to use: ')"
   ]
  },
  {
   "cell_type": "markdown",
   "metadata": {},
   "source": [
    "I inputted 5 for the rows and columns, and the symbol @, which printed below"
   ]
  },
  {
   "cell_type": "code",
   "execution_count": null,
   "id": "258922bf-c3a6-4ed3-ba82-90751a120b08",
   "metadata": {},
   "outputs": [
    {
     "name": "stdout",
     "output_type": "stream",
     "text": [
      "@ @ @ @ @ \n",
      "@ @ @ @ @ \n",
      "@ @ @ @ @ \n",
      "@ @ @ @ @ \n",
      "@ @ @ @ @ \n"
     ]
    }
   ],
   "source": [
    "for i in range(rows):\n",
    "    for j in range(columns):\n",
    "        print(symbol, end=' ')\n",
    "    print()"
   ]
  }
 ],
 "metadata": {
  "language_info": {
   "codemirror_mode": {
    "name": "ipython",
    "version": 3
   },
   "file_extension": ".py",
   "mimetype": "text/x-python",
   "name": "python",
   "nbconvert_exporter": "python",
   "pygments_lexer": "ipython3",
   "version": 3
  }
 },
 "nbformat": 4,
 "nbformat_minor": 2
}
