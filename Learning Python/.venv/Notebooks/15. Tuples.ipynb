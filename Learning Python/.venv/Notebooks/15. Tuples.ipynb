{
 "cells": [
  {
   "cell_type": "markdown",
   "metadata": {},
   "source": [
    "A tuple is a collection which is ordered and unchangable used to group together related data"
   ]
  },
  {
   "cell_type": "code",
   "execution_count": null,
   "id": "9e424d71-9a8d-4eba-bbd2-b1ee34710df5",
   "metadata": {},
   "outputs": [],
   "source": [
    "student = ('Zaid', 18, 'Male')"
   ]
  },
  {
   "cell_type": "code",
   "execution_count": null,
   "id": "7de82098-a9d9-417a-a4c6-c108545bb77a",
   "metadata": {},
   "outputs": [
    {
     "name": "stdout",
     "output_type": "stream",
     "text": [
      "1\n",
      "2\n"
     ]
    }
   ],
   "source": [
    "print(student.count('Zaid'))  \n",
    "print(student.index('Male'))"
   ]
  },
  {
   "cell_type": "code",
   "execution_count": null,
   "id": "d748b908-9490-40f2-9927-b9438d25f4e5",
   "metadata": {},
   "outputs": [
    {
     "name": "stdout",
     "output_type": "stream",
     "text": [
      "Zaid\n",
      "18\n",
      "Male\n"
     ]
    }
   ],
   "source": [
    "for i in student:\n",
    "    print(i)"
   ]
  },
  {
   "cell_type": "code",
   "execution_count": null,
   "id": "335eadcb-b1a5-4357-9336-7b45e93d77cf",
   "metadata": {},
   "outputs": [
    {
     "name": "stdout",
     "output_type": "stream",
     "text": [
      "Zaid is here\n"
     ]
    }
   ],
   "source": [
    "if 'Zaid' in student:\n",
    "    print('Zaid is here')"
   ]
  }
 ],
 "metadata": {
  "language_info": {
   "codemirror_mode": {
    "name": "ipython",
    "version": 3
   },
   "file_extension": ".py",
   "mimetype": "text/x-python",
   "name": "python",
   "nbconvert_exporter": "python",
   "pygments_lexer": "ipython3",
   "version": 3
  }
 },
 "nbformat": 4,
 "nbformat_minor": 2
}
