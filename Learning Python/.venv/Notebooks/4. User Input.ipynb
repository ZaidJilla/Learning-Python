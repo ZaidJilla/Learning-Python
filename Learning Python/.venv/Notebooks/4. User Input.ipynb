{
 "cells": [
  {
   "cell_type": "markdown",
   "metadata": {},
   "source": [
    "input() is the key function for user input"
   ]
  },
  {
   "cell_type": "code",
   "execution_count": null,
   "id": "11574625-0050-4b95-8da7-c2dc2700209a",
   "metadata": {},
   "outputs": [],
   "source": [
    "name = input(\"Enter your name: \")"
   ]
  },
  {
   "cell_type": "markdown",
   "metadata": {},
   "source": [
    "Takes my name, Zaid, and stores it in the variable 'name'"
   ]
  },
  {
   "cell_type": "code",
   "execution_count": null,
   "id": "b07c7921-cf37-4422-b6ad-35aa7ac23261",
   "metadata": {},
   "outputs": [],
   "source": [
    "age = int(input(\"Enter your age: \"))"
   ]
  },
  {
   "cell_type": "markdown",
   "metadata": {},
   "source": [
    "Takes my age, 18, and stores it in the variable 'age'"
   ]
  },
  {
   "cell_type": "code",
   "execution_count": null,
   "id": "dc8b14f0-2f20-406f-84cd-f5c69682d360",
   "metadata": {},
   "outputs": [],
   "source": [
    "heigh = float(input(\"Enter your height: \"))"
   ]
  },
  {
   "cell_type": "markdown",
   "metadata": {},
   "source": [
    "Takes my height, 182.88, and stores it in the variable 'height'"
   ]
  },
  {
   "cell_type": "code",
   "execution_count": null,
   "id": "e1502111-a4a3-40fc-bc2b-05976efc2ebd",
   "metadata": {},
   "outputs": [
    {
     "name": "stdout",
     "output_type": "stream",
     "text": [
      "Hello, Zaid!\n",
      "your age next year is 19\n",
      "your height is 182.88cm tall\n"
     ]
    }
   ],
   "source": [
    "print(\"Hello, \" + name + \"!\")\n",
    "print(\"your age next year is \" + str(age + 1))\n",
    "print(\"your height is \" + str(heigh) + \"cm tall\")"
   ]
  }
 ],
 "metadata": {
  "language_info": {
   "codemirror_mode": {
    "name": "ipython",
    "version": 3
   },
   "file_extension": ".py",
   "mimetype": "text/x-python",
   "name": "python",
   "nbconvert_exporter": "python",
   "pygments_lexer": "ipython3",
   "version": 3
  }
 },
 "nbformat": 4,
 "nbformat_minor": 2
}
