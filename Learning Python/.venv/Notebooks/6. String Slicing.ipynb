{
 "cells": [
  {
   "cell_type": "markdown",
   "metadata": {},
   "source": [
    "Slicing = creating a substring by extracting elements from another string\n"
   ]
  },
  {
   "cell_type": "code",
   "execution_count": null,
   "id": "566c1801-bb0a-455c-8dcc-9aef382d2675",
   "metadata": {},
   "outputs": [],
   "source": [
    "# indexing[] or slice()\n",
    "# [start:stop:step]"
   ]
  },
  {
   "cell_type": "markdown",
   "metadata": {},
   "source": [
    "Stores my name in variable 'name.'"
   ]
  },
  {
   "cell_type": "code",
   "execution_count": null,
   "id": "654f7127-aea2-4e6a-93bc-01001daf1cca",
   "metadata": {},
   "outputs": [],
   "source": [
    "name = 'Zaid Jilla'"
   ]
  },
  {
   "cell_type": "markdown",
   "metadata": {},
   "source": [
    "Cuts out first name, [start, end+1] -> [0:3+1]. Saves cut first name into variable 'first_name'."
   ]
  },
  {
   "cell_type": "code",
   "execution_count": null,
   "id": "16103be0-1103-4e1a-82c4-4ed958c98c14",
   "metadata": {},
   "outputs": [
    {
     "name": "stdout",
     "output_type": "stream",
     "text": [
      "Zaid\n"
     ]
    }
   ],
   "source": [
    "# first name\n",
    "first_name = name[:4]\n",
    "print(first_name)"
   ]
  },
  {
   "cell_type": "markdown",
   "metadata": {},
   "source": [
    "Cuts out last name, [start, end+1 (or blank)] -> [5:0]. Saves cut last name into variable 'last_name'."
   ]
  },
  {
   "cell_type": "code",
   "execution_count": null,
   "id": "f00d00f8-ecec-4911-95be-ecd7355e5b10",
   "metadata": {},
   "outputs": [
    {
     "name": "stdout",
     "output_type": "stream",
     "text": [
      "Jilla\n"
     ]
    }
   ],
   "source": [
    "# last name\n",
    "last_name = name[5:]\n",
    "print(last_name)"
   ]
  },
  {
   "cell_type": "markdown",
   "metadata": {},
   "source": [
    "Goes through my name but in increments of 2, removing every other character."
   ]
  },
  {
   "cell_type": "code",
   "execution_count": null,
   "id": "371a4256-68c0-4e3a-9e4a-6c94913f8222",
   "metadata": {},
   "outputs": [
    {
     "name": "stdout",
     "output_type": "stream",
     "text": [
      "Zi il\n"
     ]
    }
   ],
   "source": [
    "# funky name, every second character\n",
    "funky_name = name[::2]\n",
    "print(funky_name)"
   ]
  },
  {
   "cell_type": "markdown",
   "metadata": {},
   "source": [
    "Reverses my name with an increment of -1."
   ]
  },
  {
   "cell_type": "code",
   "execution_count": null,
   "id": "873db83a-7eb0-4788-ab09-843625210280",
   "metadata": {},
   "outputs": [
    {
     "name": "stdout",
     "output_type": "stream",
     "text": [
      "alliJ diaZ\n"
     ]
    }
   ],
   "source": [
    "# reversed name\n",
    "reversed_name = name[::-1]\n",
    "print(reversed_name)"
   ]
  }
 ],
 "metadata": {
  "language_info": {
   "codemirror_mode": {
    "name": "ipython",
    "version": 3
   },
   "file_extension": ".py",
   "mimetype": "text/x-python",
   "name": "python",
   "nbconvert_exporter": "python",
   "pygments_lexer": "ipython3",
   "version": 3
  }
 },
 "nbformat": 4,
 "nbformat_minor": 2
}
