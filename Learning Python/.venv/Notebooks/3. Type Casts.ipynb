{
 "cells": [
  {
   "cell_type": "markdown",
   "metadata": {},
   "source": [
    "Type casting = converting the data type of a value to another data type"
   ]
  },
  {
   "cell_type": "code",
   "execution_count": null,
   "id": "e918809d-24f9-48a7-90c4-60eafebaa3a4",
   "metadata": {},
   "outputs": [],
   "source": [
    "x = 1 # int\n",
    "y = 2.5 # float\n",
    "z = '3' # str"
   ]
  },
  {
   "cell_type": "markdown",
   "metadata": {},
   "source": [
    "Note: you cannot do math with strings"
   ]
  },
  {
   "cell_type": "code",
   "execution_count": null,
   "id": "0ef70309-7650-473b-9aba-0929534b8caa",
   "metadata": {},
   "outputs": [
    {
     "name": "stdout",
     "output_type": "stream",
     "text": [
      "2\n",
      "2.5\n"
     ]
    }
   ],
   "source": [
    "# converting float to int, not a permnanent change\n",
    "print(int(y)) \n",
    "print(y)"
   ]
  },
  {
   "cell_type": "code",
   "execution_count": null,
   "id": "dbaef3ee-fd39-4469-a2f3-dd2b59703288",
   "metadata": {},
   "outputs": [
    {
     "name": "stdout",
     "output_type": "stream",
     "text": [
      "2\n"
     ]
    }
   ],
   "source": [
    "# converting float to int, permanent change\n",
    "y = int(y) \n",
    "print(y)"
   ]
  },
  {
   "cell_type": "code",
   "execution_count": null,
   "id": "6da08463-e415-4f75-a156-76c95ec6dad5",
   "metadata": {},
   "outputs": [
    {
     "name": "stdout",
     "output_type": "stream",
     "text": [
      "X is 1\n"
     ]
    }
   ],
   "source": [
    "# when would you need to convert an int or float to a string?\n",
    "# print('X is'+ x)\n",
    "# error: can only concatenate str (not \"int\") to str\n",
    "print('X is ' + str(x))"
   ]
  }
 ],
 "metadata": {
  "language_info": {
   "codemirror_mode": {
    "name": "ipython",
    "version": 3
   },
   "file_extension": ".py",
   "mimetype": "text/x-python",
   "name": "python",
   "nbconvert_exporter": "python",
   "pygments_lexer": "ipython3",
   "version": 3
  }
 },
 "nbformat": 4,
 "nbformat_minor": 2
}
