{
 "cells": [
  {
   "cell_type": "markdown",
   "metadata": {},
   "source": [
    "Self explainable, if this then that, else if this then that, else this"
   ]
  },
  {
   "cell_type": "code",
   "execution_count": 3,
   "id": "1b663b36-679b-4dc8-b7f7-873bcc47afa2",
   "metadata": {},
   "outputs": [
    {
     "name": "stdout",
     "output_type": "stream",
     "text": [
      "You are an adult!\n"
     ]
    }
   ],
   "source": [
    "# if statement =  a block of code that will executre if its condition is true\n",
    "\n",
    "age = int(input(\"How old are you?: \"))\n",
    "\n",
    "if age == 100:\n",
    "    print(\"You are a century old!\")\n",
    "elif age >= 18:\n",
    "    print(\"You are an adult!\")\n",
    "elif age < 0:\n",
    "    print(\"You are not born yet!\")\n",
    "else:\n",
    "    print(\"You are a child!\")"
   ]
  },
  {
   "cell_type": "markdown",
   "metadata": {},
   "source": [
    "Inputted 18"
   ]
  }
 ],
 "metadata": {
  "kernelspec": {
   "display_name": "Python 3",
   "language": "python",
   "name": "python3"
  },
  "language_info": {
   "codemirror_mode": {
    "name": "ipython",
    "version": 3
   },
   "file_extension": ".py",
   "mimetype": "text/x-python",
   "name": "python",
   "nbconvert_exporter": "python",
   "pygments_lexer": "ipython3",
   "version": "3.12.10"
  }
 },
 "nbformat": 4,
 "nbformat_minor": 2
}
