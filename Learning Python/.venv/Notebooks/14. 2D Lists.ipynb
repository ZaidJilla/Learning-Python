{
 "cells": [
  {
   "cell_type": "markdown",
   "metadata": {},
   "source": [
    "A 2D list is a list of lists"
   ]
  },
  {
   "cell_type": "code",
   "execution_count": null,
   "id": "347024c3-7f6c-486e-8fe6-93b7d8a735f6",
   "metadata": {},
   "outputs": [],
   "source": [
    "drinks = ['water', 'energy drink', 'boba']\n",
    "dinner = ['pizza', 'burger', 'hotdog']\n",
    "dessert = ['ice cream', 'cookie']"
   ]
  },
  {
   "cell_type": "markdown",
   "metadata": {},
   "source": [
    "Adds all the lists to one big list called food"
   ]
  },
  {
   "cell_type": "code",
   "execution_count": null,
   "id": "7d4e50c7-e01b-410b-beda-2d776b9cbbfa",
   "metadata": {},
   "outputs": [],
   "source": [
    "food = [drinks, dinner, dessert]"
   ]
  },
  {
   "cell_type": "markdown",
   "metadata": {},
   "source": [
    "prints food but the first list and second item in the first list"
   ]
  },
  {
   "cell_type": "code",
   "execution_count": null,
   "id": "987b574e-3845-4e92-8618-5d16e73578b4",
   "metadata": {},
   "outputs": [
    {
     "name": "stdout",
     "output_type": "stream",
     "text": [
      "energy drink\n"
     ]
    }
   ],
   "source": [
    "print(food[0][1])"
   ]
  }
 ],
 "metadata": {
  "language_info": {
   "codemirror_mode": {
    "name": "ipython",
    "version": 3
   },
   "file_extension": ".py",
   "mimetype": "text/x-python",
   "name": "python",
   "nbconvert_exporter": "python",
   "pygments_lexer": "ipython3",
   "version": 3
  }
 },
 "nbformat": 4,
 "nbformat_minor": 2
}
