{
 "cells": [
  {
   "cell_type": "code",
   "execution_count": null,
   "id": "a4300f55-72d7-4692-9bd9-1104d577a239",
   "metadata": {},
   "outputs": [],
   "source": [
    "# dictionary = A changable, unordered collection of unique key:value pairs\n",
    "# they are fast because they use hashing, allow us to access a value quickly"
   ]
  },
  {
   "cell_type": "code",
   "execution_count": null,
   "id": "48b14e1f-f18c-4611-9fb3-ef7d82f7b5a8",
   "metadata": {},
   "outputs": [],
   "source": [
    "capitals = {\n",
    "    'USA': 'Washington, D.C.',\n",
    "    'India': 'New Delhi',\n",
    "    'Chuna': 'Beijing',\n",
    "    'Russia': 'Moscow'}"
   ]
  },
  {
   "cell_type": "code",
   "execution_count": null,
   "id": "10979d49-79f7-4bbc-afc1-9149ed95df25",
   "metadata": {},
   "outputs": [
    {
     "name": "stdout",
     "output_type": "stream",
     "text": [
      "Moscow\n"
     ]
    }
   ],
   "source": [
    "print(capitals['Russia'])"
   ]
  },
  {
   "cell_type": "code",
   "execution_count": null,
   "id": "f68bb0f1-8fca-4322-ada3-da8eb60f16f0",
   "metadata": {},
   "outputs": [
    {
     "name": "stdout",
     "output_type": "stream",
     "text": [
      "None\n"
     ]
    }
   ],
   "source": [
    "print(capitals.get('Germany'))"
   ]
  },
  {
   "cell_type": "code",
   "execution_count": null,
   "id": "4c40b69e-1180-4455-a5ad-5d61302fdf24",
   "metadata": {},
   "outputs": [
    {
     "name": "stdout",
     "output_type": "stream",
     "text": [
      "dict_keys(['USA', 'India', 'Chuna', 'Russia'])\n"
     ]
    }
   ],
   "source": [
    "print(capitals.keys())"
   ]
  },
  {
   "cell_type": "code",
   "execution_count": null,
   "id": "8cc00d13-d5a3-4388-805d-f26867c52fab",
   "metadata": {},
   "outputs": [
    {
     "name": "stdout",
     "output_type": "stream",
     "text": [
      "dict_values(['Washington, D.C.', 'New Delhi', 'Beijing', 'Moscow'])\n"
     ]
    }
   ],
   "source": [
    "print(capitals.values())"
   ]
  },
  {
   "cell_type": "code",
   "execution_count": null,
   "id": "e2d91105-ecf2-4115-afc0-5a4f2e3fe33d",
   "metadata": {},
   "outputs": [
    {
     "name": "stdout",
     "output_type": "stream",
     "text": [
      "dict_items([('USA', 'Washington, D.C.'), ('India', 'New Delhi'), ('Chuna', 'Beijing'), ('Russia', 'Moscow')])\n"
     ]
    }
   ],
   "source": [
    "print(capitals.items())"
   ]
  },
  {
   "cell_type": "code",
   "execution_count": null,
   "id": "333a5ce5-7a78-431b-8436-681dd3c58133",
   "metadata": {},
   "outputs": [],
   "source": [
    "capitals.update({'Germany':'Berlin'})"
   ]
  },
  {
   "cell_type": "code",
   "execution_count": null,
   "id": "b2d452a0-9452-414e-a868-86904e02729f",
   "metadata": {},
   "outputs": [
    {
     "name": "stdout",
     "output_type": "stream",
     "text": [
      "The capital of USA is Washington, D.C.\n",
      "The capital of India is New Delhi\n",
      "The capital of Chuna is Beijing\n",
      "The capital of Russia is Moscow\n",
      "The capital of Germany is Berlin\n"
     ]
    }
   ],
   "source": [
    "for key, value in capitals.items():\n",
    "    print(f'The capital of {key} is {value}')"
   ]
  }
 ],
 "metadata": {
  "language_info": {
   "codemirror_mode": {
    "name": "ipython",
    "version": 3
   },
   "file_extension": ".py",
   "mimetype": "text/x-python",
   "name": "python",
   "nbconvert_exporter": "python",
   "pygments_lexer": "ipython3",
   "version": 3
  }
 },
 "nbformat": 4,
 "nbformat_minor": 2
}
